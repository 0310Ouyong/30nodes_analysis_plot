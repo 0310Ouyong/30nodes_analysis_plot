{
 "cells": [
  {
   "cell_type": "code",
   "execution_count": 1,
   "id": "3948368d",
   "metadata": {},
   "outputs": [],
   "source": [
    "import pandas as pd\n",
    "import numpy as np\n",
    "import matplotlib.pyplot as plt\n",
    "import seaborn as sns\n",
    "import scipy.stats as spstats\n",
    "import random\n",
    "%matplotlib inline\n",
    "import os\n",
    "os.chdir('C:/data/30plot')"
   ]
  },
  {
   "cell_type": "code",
   "execution_count": 2,
   "id": "ee1d39d3",
   "metadata": {},
   "outputs": [],
   "source": [
    "EcoBuilder = []\n",
    "for line in open('30EcoBuilder_massratio.txt', 'r'):  \n",
    "    rs = line.replace('\\n', '')  \n",
    "    EcoBuilder.append(rs)\n",
    "    \n",
    "EcoBuilder = [ float(x) for x in EcoBuilder ]\n",
    "EcoBuilder = np.log10(EcoBuilder)\n",
    "EcoBuilder = EcoBuilder.tolist()"
   ]
  },
  {
   "cell_type": "code",
   "execution_count": 3,
   "id": "a4556363",
   "metadata": {},
   "outputs": [],
   "source": [
    "realworld = []\n",
    "for line in open('realworld_massratio.txt', 'r'):  \n",
    "    rs = line.replace('\\n', '')  \n",
    "    realworld.append(rs)\n",
    "    \n",
    "realworld = [ float(x) for x in realworld ]\n",
    "realworld = np.log10(realworld)\n",
    "realworld = realworld.tolist()"
   ]
  },
  {
   "cell_type": "code",
   "execution_count": 4,
   "id": "196a4e3e",
   "metadata": {},
   "outputs": [],
   "source": [
    "#np.concatenate数组拼接\n",
    "#np.empty()根据给定的维度和数值类型返回一个新的数组\n",
    "#np.random.permutation()生成随机序列\n",
    "def bs_permute(dist1, dist2, func, size):\n",
    "    distboth = np.concatenate((dist1,dist2))\n",
    "    \n",
    "    bs_samples = np.empty(size)\n",
    "    for i in range(size):\n",
    "        scrambled = np.random.permutation(distboth)\n",
    "        perm1 = scrambled[:len(dist1)]\n",
    "        perm2 = scrambled[len(dist1):]\n",
    "        bs_samples[i] = func(perm1, perm2)\n",
    "        \n",
    "    return bs_samples\n",
    "\n",
    "#np.median()计算沿指定轴的中位数\n",
    "def diff_meds(dist1, dist2):\n",
    "    return np.median(dist1) - np.median(dist2)\n",
    "    \n",
    "def test_median(dist1, dist2, size):\n",
    "    gtruth_dmed = diff_meds(dist1, dist2)\n",
    "    sample_dmeds = bs_permute(dist1, dist2, diff_meds, size)\n",
    "    \n",
    "    pval = np.sum(sample_dmeds >= gtruth_dmed) / len(sample_dmeds)\n",
    "    return pval"
   ]
  },
  {
   "cell_type": "code",
   "execution_count": 5,
   "id": "66e27224",
   "metadata": {},
   "outputs": [
    {
     "name": "stdout",
     "output_type": "stream",
     "text": [
      "p=0.0\n"
     ]
    }
   ],
   "source": [
    "massratio_pval = test_median(realworld, EcoBuilder, 100000)\n",
    "\n",
    "print(f'p={massratio_pval}')"
   ]
  },
  {
   "cell_type": "code",
   "execution_count": 6,
   "id": "68325e6a",
   "metadata": {},
   "outputs": [
    {
     "name": "stderr",
     "output_type": "stream",
     "text": [
      "C:\\Users\\94795\\anaconda3\\lib\\site-packages\\seaborn\\distributions.py:2619: FutureWarning: `distplot` is a deprecated function and will be removed in a future version. Please adapt your code to use either `displot` (a figure-level function with similar flexibility) or `histplot` (an axes-level function for histograms).\n",
      "  warnings.warn(msg, FutureWarning)\n",
      "C:\\Users\\94795\\anaconda3\\lib\\site-packages\\seaborn\\distributions.py:2619: FutureWarning: `distplot` is a deprecated function and will be removed in a future version. Please adapt your code to use either `displot` (a figure-level function with similar flexibility) or `histplot` (an axes-level function for histograms).\n",
      "  warnings.warn(msg, FutureWarning)\n"
     ]
    },
    {
     "data": {
      "image/png": "[encoded data removed]",
      "text/plain": [
       "<Figure size 432x288 with 1 Axes>"
      ]
     },
     "metadata": {
      "needs_background": "light"
     },
     "output_type": "display_data"
    }
   ],
   "source": [
    "#plot histograms\n",
    "\n",
    "fig,axes = plt.subplots(nrows=1, ncols=1, figsize=(6,4))\n",
    "#fig.tight_layout()用于调整布局\n",
    "fig.tight_layout()\n",
    "\n",
    "# hists\n",
    "pbins = np.arange(-5,20)-.5\n",
    "\n",
    "sns.distplot(realworld, hist_kws=dict(alpha=.25), ax=axes, bins=pbins)\n",
    "sns.distplot(EcoBuilder, hist_kws=dict(alpha=.25), ax=axes, bins=pbins)\n",
    "\n",
    "\n",
    "axes.legend(['real world','EcoBuilder'])\n",
    "\n",
    "\n",
    "axes.set_ylabel('proportion',size=12)\n",
    "axes.set_xlabel('log10 consumer resource body size ratios',size=12)\n",
    "\n",
    "# medians\n",
    "#plt.get_cmap()在Matplotlib中选择颜色图\n",
    "#axvline()在绘图轴上添加垂直线\n",
    "cmap = plt.get_cmap('tab10')\n",
    "mmed0 = np.median(EcoBuilder)\n",
    "mmed1 = np.median(realworld)\n",
    "axes.axvline(mmed0, color=cmap(.1), linestyle='--')\n",
    "axes.axvline(mmed1, color=cmap(0), linestyle='--')\n",
    "\n",
    "# ticks\n",
    "# axes[0].tick_params(axis='y', which='both', left=False, labelleft=False)\n",
    "# axes[1].tick_params(axis='y', which='both', left=False, labelleft=False)\n",
    "axes.set_xlim([-5,20])\n",
    "axes.set_xticks([-3,0,3,6,9,12,15,18])\n",
    "axes.set_title(f'p = {massratio_pval:.4f}')\n",
    "\n",
    "plt.savefig('C:/data/30plot/figures/massratio.pdf', bbox_inches='tight', pad_inches=0)"
   ]
  },
  {
   "cell_type": "code",
   "execution_count": null,
   "id": "a749e9ec",
   "metadata": {},
   "outputs": [],
   "source": []
  }
 ],
 "metadata": {
  "kernelspec": {
   "display_name": "Python 3 (ipykernel)",
   "language": "python",
   "name": "python3"
  },
  "language_info": {
   "codemirror_mode": {
    "name": "ipython",
    "version": 3
   },
   "file_extension": ".py",
   "mimetype": "text/x-python",
   "name": "python",
   "nbconvert_exporter": "python",
   "pygments_lexer": "ipython3",
   "version": "3.9.7"
  }
 },
 "nbformat": 4,
 "nbformat_minor": 5
}
